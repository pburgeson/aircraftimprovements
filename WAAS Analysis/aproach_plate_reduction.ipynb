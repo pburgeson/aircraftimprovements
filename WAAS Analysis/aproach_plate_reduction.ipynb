{
 "cells": [
  {
   "attachments": {},
   "cell_type": "markdown",
   "metadata": {},
   "source": [
    "# Reduction of files\n",
    "Downloaded the individual approach plates from FAA [website](https://www.faa.gov/air_traffic/flight_info/aeronav/digital_products/dtpp/).  The individual approach plates were used rather than the area pdf's as they were easier to parse.  This notebook removes all plates that are not RNAV approaches."
   ]
  },
  {
   "cell_type": "code",
   "execution_count": 7,
   "metadata": {},
   "outputs": [
    {
     "name": "stdout",
     "output_type": "stream",
     "text": [
      "Of 16733 files, 9355 were removed, leaving 7378\n"
     ]
    }
   ],
   "source": [
    "import os\n",
    "\n",
    "approach_plate_dir = \"./approach_plates\"\n",
    "original_num_files = len(os.listdir(approach_plate_dir))\n",
    "for filename in os.listdir(approach_plate_dir):\n",
    "    if filename[5] != \"R\":\n",
    "        os.remove(approach_plate_dir + \"/\" + filename)\n",
    "final_num_files = len(os.listdir(approach_plate_dir))\n",
    "print(\"Of\", original_num_files, \"files,\", original_num_files - final_num_files, \"were removed, leaving\", final_num_files)"
   ]
  },
  {
   "cell_type": "markdown",
   "metadata": {},
   "source": [
    "## Results\n",
    "Utilized Jul 13 2023 - Aug 10 2023 Data\n",
    "16733 files included arrivals, departures, approaches, airport diagrams, and others.\n",
    "9355 files were removed leaving 7378 RNAV approaches"
   ]
  }
 ],
 "metadata": {
  "kernelspec": {
   "display_name": "Python 3",
   "language": "python",
   "name": "python3"
  },
  "language_info": {
   "codemirror_mode": {
    "name": "ipython",
    "version": 3
   },
   "file_extension": ".py",
   "mimetype": "text/x-python",
   "name": "python",
   "nbconvert_exporter": "python",
   "pygments_lexer": "ipython3",
   "version": "3.9.0"
  },
  "orig_nbformat": 4
 },
 "nbformat": 4,
 "nbformat_minor": 2
}
